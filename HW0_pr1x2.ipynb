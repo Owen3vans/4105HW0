{
 "cells": [
  {
   "cell_type": "code",
   "execution_count": 1,
   "id": "4a2430ab",
   "metadata": {},
   "outputs": [],
   "source": [
    "import numpy as np\n",
    "import pandas as pd\n",
    "import matplotlib.pyplot as plt"
   ]
  },
  {
   "cell_type": "code",
   "execution_count": 2,
   "id": "24cf04ad",
   "metadata": {},
   "outputs": [
    {
     "data": {
      "text/plain": [
       "100"
      ]
     },
     "execution_count": 2,
     "metadata": {},
     "output_type": "execute_result"
    }
   ],
   "source": [
    "df = pd.read_csv ('https://raw.githubusercontent.com/Owen3vans/4105HW0/main/D3.csv')\n",
    "df.head()\n",
    "M=len(df) ##length of data set\n",
    "M         ## verifies correct data set"
   ]
  },
  {
   "cell_type": "code",
   "execution_count": 3,
   "id": "ce1c9b63",
   "metadata": {},
   "outputs": [
    {
     "data": {
      "text/plain": [
       "100"
      ]
     },
     "execution_count": 3,
     "metadata": {},
     "output_type": "execute_result"
    }
   ],
   "source": [
    "x= df.values[:,1] #x2 values\n",
    "y= df.values[:,3] #y values\n",
    "m= len(x) #number of training values could be x or y\n",
    "m #verify number of entries "
   ]
  },
  {
   "cell_type": "code",
   "execution_count": 4,
   "id": "51db8af4",
   "metadata": {},
   "outputs": [
    {
     "name": "stdout",
     "output_type": "stream",
     "text": [
      "X =  [3.44       0.1349495  0.82989899 1.52484848 2.21979798]\n",
      "Y =  [4.38754501 2.6796499  2.96848981 3.25406475 3.53637472]\n"
     ]
    }
   ],
   "source": [
    "print('X = ', x[: 5]) #first 5 values of x and y for verification\n",
    "print('Y = ', y[: 5])"
   ]
  },
  {
   "cell_type": "code",
   "execution_count": 5,
   "id": "ba5b225d",
   "metadata": {},
   "outputs": [
    {
     "data": {
      "text/plain": [
       "array([[1.],\n",
       "       [1.],\n",
       "       [1.],\n",
       "       [1.],\n",
       "       [1.]])"
      ]
     },
     "execution_count": 5,
     "metadata": {},
     "output_type": "execute_result"
    }
   ],
   "source": [
    "x0 = np.ones((m,1)) #create matrix all 1s\n",
    "x0[:5]"
   ]
  },
  {
   "cell_type": "code",
   "execution_count": 6,
   "id": "9e9b3e67",
   "metadata": {},
   "outputs": [
    {
     "data": {
      "text/plain": [
       "array([[3.44      ],\n",
       "       [0.1349495 ],\n",
       "       [0.82989899],\n",
       "       [1.52484848],\n",
       "       [2.21979798]])"
      ]
     },
     "execution_count": 6,
     "metadata": {},
     "output_type": "execute_result"
    }
   ],
   "source": [
    "x1 = x.reshape(m, 1) #create matrix with x1 values \n",
    "x1[:5]"
   ]
  },
  {
   "cell_type": "code",
   "execution_count": 7,
   "id": "3fb98d33",
   "metadata": {},
   "outputs": [
    {
     "data": {
      "text/plain": [
       "array([[1.        , 3.44      ],\n",
       "       [1.        , 0.1349495 ],\n",
       "       [1.        , 0.82989899],\n",
       "       [1.        , 1.52484848],\n",
       "       [1.        , 2.21979798]])"
      ]
     },
     "execution_count": 7,
     "metadata": {},
     "output_type": "execute_result"
    }
   ],
   "source": [
    "x = np.hstack((x0,x1)) #combines x0 x1 array\n",
    "x[:5]"
   ]
  },
  {
   "cell_type": "code",
   "execution_count": 9,
   "id": "a3b7fad5",
   "metadata": {},
   "outputs": [
    {
     "data": {
      "text/plain": [
       "array([0., 0.])"
      ]
     },
     "execution_count": 9,
     "metadata": {},
     "output_type": "execute_result"
    }
   ],
   "source": [
    "theta = np.zeros(2) #theta value set to zero\n",
    "theta"
   ]
  },
  {
   "cell_type": "code",
   "execution_count": 10,
   "id": "1adfb436",
   "metadata": {},
   "outputs": [],
   "source": [
    "def compute_cost(x,y,theta):\n",
    "    predictions = x.dot(theta)\n",
    "    errors = np.subtract(predictions, y)\n",
    "    sqrErrors = np.square(errors)\n",
    "    J= 1/(2*m)*np.sum(sqrErrors)\n",
    "    return J"
   ]
  },
  {
   "cell_type": "code",
   "execution_count": 11,
   "id": "9e71fb49",
   "metadata": {},
   "outputs": [
    {
     "name": "stdout",
     "output_type": "stream",
     "text": [
      "5.524438459196242\n"
     ]
    }
   ],
   "source": [
    "cost = compute_cost(x,y,theta)\n",
    "print(cost)"
   ]
  },
  {
   "cell_type": "code",
   "execution_count": 12,
   "id": "7a90e5ce",
   "metadata": {},
   "outputs": [],
   "source": [
    "def Gradiant_decent (x,y,theta,alpha,itterations):\n",
    "    cost_history= np.zeros(itterations)\n",
    "    for i in range(itterations):\n",
    "        predictions= x.dot(theta)\n",
    "        errors= np.subtract(predictions, y)\n",
    "        sum_delta= (alpha / m)* x.transpose().dot(errors);\n",
    "        theta = theta - sum_delta;\n",
    "        cost_history[i]= compute_cost(x,y,theta)\n",
    "    return theta, cost_history"
   ]
  },
  {
   "cell_type": "code",
   "execution_count": 59,
   "id": "26523a10",
   "metadata": {},
   "outputs": [],
   "source": [
    "theta =[0.,0.] #set theta to 0\n",
    "itterations = 1500;\n",
    "alpha=0.02;"
   ]
  },
  {
   "cell_type": "code",
   "execution_count": 60,
   "id": "3f295ad5",
   "metadata": {},
   "outputs": [
    {
     "name": "stdout",
     "output_type": "stream",
     "text": [
      "Final value of theta=  [0.73548423 0.55783187]\n",
      "cost history=  [5.08650808 4.74945753 4.49003729 ... 3.59936606 3.59936606 3.59936606]\n"
     ]
    }
   ],
   "source": [
    "theta, cost_history = Gradiant_decent(x,y,theta,alpha,itterations)\n",
    "print('Final value of theta= ' ,theta)\n",
    "print('cost history= ', cost_history)"
   ]
  },
  {
   "cell_type": "code",
   "execution_count": 61,
   "id": "4f82f7d5",
   "metadata": {},
   "outputs": [
    {
     "data": {
      "text/plain": [
       "<matplotlib.legend.Legend at 0x1ea733661f0>"
      ]
     },
     "execution_count": 61,
     "metadata": {},
     "output_type": "execute_result"
    },
    {
     "data": {
      "image/png": "[encoded data removed]",
      "text/plain": [
       "<Figure size 720x432 with 1 Axes>"
      ]
     },
     "metadata": {
      "needs_background": "light"
     },
     "output_type": "display_data"
    }
   ],
   "source": [
    "plt.scatter(x[:,1], y, color='red', marker= '+', label= 'Training Data') \n",
    "plt.plot(x[:,1],x.dot(theta), color='green', label='Linear Regression')\n",
    "plt.rcParams[\"figure.figsize\"] = (10,6) \n",
    "plt.grid() \n",
    "plt.xlabel('X1') \n",
    "plt.ylabel('y') \n",
    "plt.title('Linear Regression Fit') \n",
    "plt.legend() "
   ]
  },
  {
   "cell_type": "code",
   "execution_count": 62,
   "id": "3d4a0d9d",
   "metadata": {},
   "outputs": [
    {
     "data": {
      "text/plain": [
       "Text(0.5, 1.0, 'Convergence of gradient descent')"
      ]
     },
     "execution_count": 62,
     "metadata": {},
     "output_type": "execute_result"
    },
    {
     "data": {
      "image/png": "[encoded data removed]",
      "text/plain": [
       "<Figure size 720x432 with 1 Axes>"
      ]
     },
     "metadata": {
      "needs_background": "light"
     },
     "output_type": "display_data"
    }
   ],
   "source": [
    "plt.plot(range(1, itterations + 1),cost_history, color='blue') \n",
    "plt.rcParams[\"figure.figsize\"] = (10,6) \n",
    "plt.grid() \n",
    "plt.xlabel('Number of iterations') \n",
    "plt.ylabel('Cost (J)') \n",
    "plt.title('Convergence of gradient descent') "
   ]
  },
  {
   "cell_type": "code",
   "execution_count": null,
   "id": "d58b6ee0",
   "metadata": {},
   "outputs": [],
   "source": [
    "#alpha= 0.02 gives a tight line for linear regressions and gets to cost =3 at 200 itterations"
   ]
  },
  {
   "cell_type": "code",
   "execution_count": null,
   "id": "d6a080eb",
   "metadata": {},
   "outputs": [],
   "source": []
  }
 ],
 "metadata": {
  "kernelspec": {
   "display_name": "Python 3 (ipykernel)",
   "language": "python",
   "name": "python3"
  },
  "language_info": {
   "codemirror_mode": {
    "name": "ipython",
    "version": 3
   },
   "file_extension": ".py",
   "mimetype": "text/x-python",
   "name": "python",
   "nbconvert_exporter": "python",
   "pygments_lexer": "ipython3",
   "version": "3.9.12"
  }
 },
 "nbformat": 4,
 "nbformat_minor": 5
}
