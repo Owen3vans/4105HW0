{
 "cells": [
  {
   "cell_type": "code",
   "execution_count": 81,
   "id": "8aa4f2ed",
   "metadata": {},
   "outputs": [],
   "source": [
    "import numpy as np\n",
    "import pandas as pd\n",
    "import matplotlib.pyplot as plt"
   ]
  },
  {
   "cell_type": "code",
   "execution_count": 83,
   "id": "02c50943",
   "metadata": {},
   "outputs": [
    {
     "data": {
      "text/plain": [
       "100"
      ]
     },
     "execution_count": 83,
     "metadata": {},
     "output_type": "execute_result"
    }
   ],
   "source": [
    "df = pd.read_csv ('https://raw.githubusercontent.com/Owen3vans/4105HW0/Main/D3.csv')\n",
    "df.head()\n",
    "M=len(df) ##length of data set\n",
    "M         ## verifies correct data set"
   ]
  },
  {
   "cell_type": "code",
   "execution_count": 84,
   "id": "8614e30e",
   "metadata": {},
   "outputs": [
    {
     "data": {
      "text/plain": [
       "100"
      ]
     },
     "execution_count": 84,
     "metadata": {},
     "output_type": "execute_result"
    }
   ],
   "source": [
    "x= df.values[:,1] #x2 values\n",
    "y= df.values[:,3] #y values\n",
    "m= len(x) #number of training values could be x or y\n",
    "m #verify number of entries "
   ]
  },
  {
   "cell_type": "code",
   "execution_count": 85,
   "id": "d28b2241",
   "metadata": {},
   "outputs": [
    {
     "name": "stdout",
     "output_type": "stream",
     "text": [
      "X =  [3.44       0.1349495  0.82989899 1.52484848 2.21979798]\n",
      "Y =  [4.38754501 2.6796499  2.96848981 3.25406475 3.53637472]\n"
     ]
    }
   ],
   "source": [
    "print('X = ', x[: 5]) #first 5 values of x and y for verification\n",
    "print('Y = ', y[: 5])"
   ]
  },
  {
   "cell_type": "code",
   "execution_count": 86,
   "id": "70a46249",
   "metadata": {},
   "outputs": [
    {
     "data": {
      "text/plain": [
       "array([[1.],\n",
       "       [1.],\n",
       "       [1.],\n",
       "       [1.],\n",
       "       [1.]])"
      ]
     },
     "execution_count": 86,
     "metadata": {},
     "output_type": "execute_result"
    }
   ],
   "source": [
    "x0 = np.ones((m,1)) #create matrix all 1s\n",
    "x0[:5]"
   ]
  },
  {
   "cell_type": "code",
   "execution_count": 87,
   "id": "3531cf6f",
   "metadata": {},
   "outputs": [
    {
     "data": {
      "text/plain": [
       "array([[3.44      ],\n",
       "       [0.1349495 ],\n",
       "       [0.82989899],\n",
       "       [1.52484848],\n",
       "       [2.21979798]])"
      ]
     },
     "execution_count": 87,
     "metadata": {},
     "output_type": "execute_result"
    }
   ],
   "source": [
    "x1 = x.reshape(m, 1) #create matrix with x1 values \n",
    "x1[:5]"
   ]
  },
  {
   "cell_type": "code",
   "execution_count": 88,
   "id": "9eb08aee",
   "metadata": {},
   "outputs": [
    {
     "data": {
      "text/plain": [
       "array([[1.        , 3.44      ],\n",
       "       [1.        , 0.1349495 ],\n",
       "       [1.        , 0.82989899],\n",
       "       [1.        , 1.52484848],\n",
       "       [1.        , 2.21979798]])"
      ]
     },
     "execution_count": 88,
     "metadata": {},
     "output_type": "execute_result"
    }
   ],
   "source": [
    "x = np.hstack((x0,x1)) #combines x0 x1 array\n",
    "x[:5]"
   ]
  },
  {
   "cell_type": "code",
   "execution_count": 89,
   "id": "a72c2e5e",
   "metadata": {},
   "outputs": [
    {
     "data": {
      "text/plain": [
       "array([0., 0.])"
      ]
     },
     "execution_count": 89,
     "metadata": {},
     "output_type": "execute_result"
    }
   ],
   "source": [
    "theta = np.zeros(2) #theta value set to zero\n",
    "theta"
   ]
  },
  {
   "cell_type": "code",
   "execution_count": 90,
   "id": "c49fa5ff",
   "metadata": {},
   "outputs": [],
   "source": [
    "def compute_cost(x,y,theta):\n",
    "    predictions = x.dot(theta)\n",
    "    errors = np.subtract(predictions, y)\n",
    "    sqrErrors = np.square(errors)\n",
    "    J= 1/(2*m)*np.sum(sqrErrors)\n",
    "    return J"
   ]
  },
  {
   "cell_type": "code",
   "execution_count": 91,
   "id": "4feca20f",
   "metadata": {},
   "outputs": [
    {
     "name": "stdout",
     "output_type": "stream",
     "text": [
      "5.524438459196242\n"
     ]
    }
   ],
   "source": [
    "cost = compute_cost(x,y,theta)\n",
    "print(cost)"
   ]
  },
  {
   "cell_type": "code",
   "execution_count": 92,
   "id": "b2a87f56",
   "metadata": {},
   "outputs": [],
   "source": [
    "def Gradiant_decent (x,y,theta,alpha,itterations):\n",
    "    cost_history= np.zeros(itterations)\n",
    "    for i in range(itterations):\n",
    "        predictions= x.dot(theta)\n",
    "        errors= np.subtract(predictions, y)\n",
    "        sum_delta= (alpha / m)* x.transpose().dot(errors);\n",
    "        theta = theta - sum_delta;\n",
    "        cost_history[i]= compute_cost(x,y,theta)\n",
    "    return theta, cost_history"
   ]
  },
  {
   "cell_type": "code",
   "execution_count": 93,
   "id": "12b70901",
   "metadata": {},
   "outputs": [],
   "source": [
    "theta =[0.,0.] #set theta to 0\n",
    "itterations = 1500;\n",
    "alpha=0.1;"
   ]
  },
  {
   "cell_type": "code",
   "execution_count": 94,
   "id": "9bc3f491",
   "metadata": {},
   "outputs": [
    {
     "name": "stdout",
     "output_type": "stream",
     "text": [
      "Final value of theta=  [0.73606043 0.55760761]\n",
      "cost history=  [3.90731819 3.66528504 3.62832072 ... 3.59936602 3.59936602 3.59936602]\n"
     ]
    }
   ],
   "source": [
    "theta, cost_history = Gradiant_decent(x,y,theta,alpha,itterations)\n",
    "print('Final value of theta= ' ,theta)\n",
    "print('cost history= ', cost_history)"
   ]
  },
  {
   "cell_type": "code",
   "execution_count": 78,
   "id": "e9d48c26",
   "metadata": {},
   "outputs": [
    {
     "data": {
      "text/plain": [
       "<matplotlib.legend.Legend at 0x1ea75a420a0>"
      ]
     },
     "execution_count": 78,
     "metadata": {},
     "output_type": "execute_result"
    },
    {
     "data": {
      "image/png": "[encoded data removed]",
      "text/plain": [
       "<Figure size 720x432 with 1 Axes>"
      ]
     },
     "metadata": {
      "needs_background": "light"
     },
     "output_type": "display_data"
    }
   ],
   "source": [
    "plt.scatter(x[:,1], y, color='red', marker= '+', label= 'Training Data') \n",
    "plt.plot(x[:,1],x.dot(theta), color='green', label='Linear Regression')\n",
    "plt.rcParams[\"figure.figsize\"] = (10,6) \n",
    "plt.grid() \n",
    "plt.xlabel('X2') \n",
    "plt.ylabel('y') \n",
    "plt.title('Linear Regression Fit') \n",
    "plt.legend() "
   ]
  },
  {
   "cell_type": "code",
   "execution_count": 95,
   "id": "a9fa3633",
   "metadata": {},
   "outputs": [
    {
     "data": {
      "text/plain": [
       "Text(0.5, 1.0, 'Convergence of gradient descent')"
      ]
     },
     "execution_count": 95,
     "metadata": {},
     "output_type": "execute_result"
    },
    {
     "data": {
      "image/png": "[encoded data removed]",
      "text/plain": [
       "<Figure size 720x432 with 1 Axes>"
      ]
     },
     "metadata": {
      "needs_background": "light"
     },
     "output_type": "display_data"
    }
   ],
   "source": [
    "plt.plot(range(1, itterations + 1),cost_history, color='blue') \n",
    "plt.rcParams[\"figure.figsize\"] = (10,6) \n",
    "plt.grid() \n",
    "plt.xlabel('Number of iterations') \n",
    "plt.ylabel('Cost (J)') \n",
    "plt.title('Convergence of gradient descent') "
   ]
  },
  {
   "cell_type": "code",
   "execution_count": 80,
   "id": "7a3e4759",
   "metadata": {},
   "outputs": [],
   "source": [
    "#alpha= 0.02 gives a tight line for linear regressions and gets to cost =3 at 200 itterations\n",
    "#alpha= 0.1 converges at 50 itterations"
   ]
  },
  {
   "cell_type": "code",
   "execution_count": null,
   "id": "b4b3eb67",
   "metadata": {},
   "outputs": [],
   "source": [
    "#Higher alpha value equals faster convergance "
   ]
  }
 ],
 "metadata": {
  "kernelspec": {
   "display_name": "Python 3 (ipykernel)",
   "language": "python",
   "name": "python3"
  },
  "language_info": {
   "codemirror_mode": {
    "name": "ipython",
    "version": 3
   },
   "file_extension": ".py",
   "mimetype": "text/x-python",
   "name": "python",
   "nbconvert_exporter": "python",
   "pygments_lexer": "ipython3",
   "version": "3.9.12"
  }
 },
 "nbformat": 4,
 "nbformat_minor": 5
}
