{
 "cells": [
  {
   "cell_type": "code",
   "execution_count": 1,
   "id": "c4db72ce",
   "metadata": {},
   "outputs": [],
   "source": [
    "import numpy as np\n",
    "import pandas as pd\n",
    "import matplotlib.pyplot as plt"
   ]
  },
  {
   "cell_type": "code",
   "execution_count": 2,
   "id": "efa67069",
   "metadata": {},
   "outputs": [
    {
     "data": {
      "text/plain": [
       "100"
      ]
     },
     "execution_count": 2,
     "metadata": {},
     "output_type": "execute_result"
    }
   ],
   "source": [
    "df = pd.read_csv ('https://raw.githubusercontent.com/Owen3vans/4105HW0/main/D3.csv')\n",
    "df.head()\n",
    "M=len(df) ##length of data set\n",
    "M         ## verifies correct data set"
   ]
  },
  {
   "cell_type": "code",
   "execution_count": 3,
   "id": "1b03c011",
   "metadata": {},
   "outputs": [
    {
     "data": {
      "text/plain": [
       "100"
      ]
     },
     "execution_count": 3,
     "metadata": {},
     "output_type": "execute_result"
    }
   ],
   "source": [
    "x= df.values[:,2] #x3 values\n",
    "y= df.values[:,3] #y values\n",
    "m= len(x) #number of training values could be x or y\n",
    "m #verify number of entries "
   ]
  },
  {
   "cell_type": "code",
   "execution_count": 4,
   "id": "cb767f40",
   "metadata": {},
   "outputs": [
    {
     "name": "stdout",
     "output_type": "stream",
     "text": [
      "X =  [0.44       0.88848485 1.3369697  1.78545454 2.23393939]\n",
      "Y =  [4.38754501 2.6796499  2.96848981 3.25406475 3.53637472]\n"
     ]
    }
   ],
   "source": [
    "print('X = ', x[: 5]) #first 5 values of x and y for verification\n",
    "print('Y = ', y[: 5])"
   ]
  },
  {
   "cell_type": "code",
   "execution_count": 5,
   "id": "c7705d9d",
   "metadata": {},
   "outputs": [
    {
     "data": {
      "text/plain": [
       "array([[1.],\n",
       "       [1.],\n",
       "       [1.],\n",
       "       [1.],\n",
       "       [1.]])"
      ]
     },
     "execution_count": 5,
     "metadata": {},
     "output_type": "execute_result"
    }
   ],
   "source": [
    "x0 = np.ones((m,1)) #create matrix all 1s\n",
    "x0[:5]"
   ]
  },
  {
   "cell_type": "code",
   "execution_count": 6,
   "id": "ab1dada8",
   "metadata": {},
   "outputs": [
    {
     "data": {
      "text/plain": [
       "array([[0.44      ],\n",
       "       [0.88848485],\n",
       "       [1.3369697 ],\n",
       "       [1.78545454],\n",
       "       [2.23393939]])"
      ]
     },
     "execution_count": 6,
     "metadata": {},
     "output_type": "execute_result"
    }
   ],
   "source": [
    "x1 = x.reshape(m, 1) #create matrix with x1 values \n",
    "x1[:5]"
   ]
  },
  {
   "cell_type": "code",
   "execution_count": 7,
   "id": "aeb7a5c8",
   "metadata": {},
   "outputs": [
    {
     "data": {
      "text/plain": [
       "array([[1.        , 0.44      ],\n",
       "       [1.        , 0.88848485],\n",
       "       [1.        , 1.3369697 ],\n",
       "       [1.        , 1.78545454],\n",
       "       [1.        , 2.23393939]])"
      ]
     },
     "execution_count": 7,
     "metadata": {},
     "output_type": "execute_result"
    }
   ],
   "source": [
    "x = np.hstack((x0,x1)) #combines x0 x1 array\n",
    "x[:5]"
   ]
  },
  {
   "cell_type": "code",
   "execution_count": 8,
   "id": "4c70324e",
   "metadata": {},
   "outputs": [
    {
     "data": {
      "text/plain": [
       "array([0., 0.])"
      ]
     },
     "execution_count": 8,
     "metadata": {},
     "output_type": "execute_result"
    }
   ],
   "source": [
    "theta = np.zeros(2) #theta value set to zero\n",
    "theta"
   ]
  },
  {
   "cell_type": "code",
   "execution_count": 9,
   "id": "87309a8b",
   "metadata": {},
   "outputs": [],
   "source": [
    "def compute_cost(x,y,theta):\n",
    "    predictions = x.dot(theta)\n",
    "    errors = np.subtract(predictions, y)\n",
    "    sqrErrors = np.square(errors)\n",
    "    J= 1/(2*m)*np.sum(sqrErrors)\n",
    "    return J"
   ]
  },
  {
   "cell_type": "code",
   "execution_count": 10,
   "id": "f0e98f92",
   "metadata": {},
   "outputs": [
    {
     "name": "stdout",
     "output_type": "stream",
     "text": [
      "5.524438459196242\n"
     ]
    }
   ],
   "source": [
    "cost = compute_cost(x,y,theta)\n",
    "print(cost)"
   ]
  },
  {
   "cell_type": "code",
   "execution_count": 11,
   "id": "394aad3f",
   "metadata": {},
   "outputs": [],
   "source": [
    "def Gradiant_decent (x,y,theta,alpha,itterations):\n",
    "    cost_history= np.zeros(itterations)\n",
    "    for i in range(itterations):\n",
    "        predictions= x.dot(theta)\n",
    "        errors= np.subtract(predictions, y)\n",
    "        sum_delta= (alpha / m)* x.transpose().dot(errors);\n",
    "        theta = theta - sum_delta;\n",
    "        cost_history[i]= compute_cost(x,y,theta)\n",
    "    return theta, cost_history"
   ]
  },
  {
   "cell_type": "code",
   "execution_count": 32,
   "id": "03131938",
   "metadata": {},
   "outputs": [],
   "source": [
    "theta =[0.,0.] #set theta to 0\n",
    "itterations = 1500;\n",
    "alpha=0.1;"
   ]
  },
  {
   "cell_type": "code",
   "execution_count": 33,
   "id": "c1377cab",
   "metadata": {},
   "outputs": [
    {
     "name": "stdout",
     "output_type": "stream",
     "text": [
      "Final value of theta=  [ 2.8714221  -0.52048288]\n",
      "cost history=  [4.66843939 4.49602325 4.43685075 ... 3.62945112 3.62945112 3.62945112]\n"
     ]
    }
   ],
   "source": [
    "theta, cost_history = Gradiant_decent(x,y,theta,alpha,itterations)\n",
    "print('Final value of theta= ' ,theta)\n",
    "print('cost history= ', cost_history)"
   ]
  },
  {
   "cell_type": "code",
   "execution_count": 34,
   "id": "4ca49b94",
   "metadata": {},
   "outputs": [
    {
     "data": {
      "text/plain": [
       "<matplotlib.legend.Legend at 0x210dcf15610>"
      ]
     },
     "execution_count": 34,
     "metadata": {},
     "output_type": "execute_result"
    },
    {
     "data": {
      "image/png": "[encoded data removed]",
      "text/plain": [
       "<Figure size 720x432 with 1 Axes>"
      ]
     },
     "metadata": {
      "needs_background": "light"
     },
     "output_type": "display_data"
    }
   ],
   "source": [
    "plt.scatter(x[:,1], y, color='red', marker= '+', label= 'Training Data') \n",
    "plt.plot(x[:,1],x.dot(theta), color='green', label='Linear Regression')\n",
    "plt.rcParams[\"figure.figsize\"] = (10,6) \n",
    "plt.grid() \n",
    "plt.xlabel('X1') \n",
    "plt.ylabel('y') \n",
    "plt.title('Linear Regression Fit') \n",
    "plt.legend() "
   ]
  },
  {
   "cell_type": "code",
   "execution_count": 35,
   "id": "89558247",
   "metadata": {},
   "outputs": [
    {
     "data": {
      "text/plain": [
       "Text(0.5, 1.0, 'Convergence of gradient descent')"
      ]
     },
     "execution_count": 35,
     "metadata": {},
     "output_type": "execute_result"
    },
    {
     "data": {
      "image/png": "[encoded data removed]",
      "text/plain": [
       "<Figure size 720x432 with 1 Axes>"
      ]
     },
     "metadata": {
      "needs_background": "light"
     },
     "output_type": "display_data"
    }
   ],
   "source": [
    "plt.plot(range(1, itterations + 1),cost_history, color='blue') \n",
    "plt.rcParams[\"figure.figsize\"] = (10,6) \n",
    "plt.grid() \n",
    "plt.xlabel('Number of iterations') \n",
    "plt.ylabel('Cost (J)') \n",
    "plt.title('Convergence of gradient descent') "
   ]
  },
  {
   "cell_type": "code",
   "execution_count": null,
   "id": "afc80c8e",
   "metadata": {},
   "outputs": [],
   "source": [
    "#a=.01, cost=3.6@ 800 iterations\n",
    "#a=0.1, cost =3.6@ 100 itterations\n",
    "#a=.05, cost=3.8@ 150 itterations"
   ]
  }
 ],
 "metadata": {
  "kernelspec": {
   "display_name": "Python 3 (ipykernel)",
   "language": "python",
   "name": "python3"
  },
  "language_info": {
   "codemirror_mode": {
    "name": "ipython",
    "version": 3
   },
   "file_extension": ".py",
   "mimetype": "text/x-python",
   "name": "python",
   "nbconvert_exporter": "python",
   "pygments_lexer": "ipython3",
   "version": "3.9.12"
  }
 },
 "nbformat": 4,
 "nbformat_minor": 5
}
