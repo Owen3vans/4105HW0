{
 "cells": [
  {
   "cell_type": "code",
   "execution_count": 143,
   "id": "c9be6e4c",
   "metadata": {},
   "outputs": [],
   "source": [
    "import numpy as np\n",
    "import pandas as pd\n",
    "import matplotlib.pyplot as plt"
   ]
  },
  {
   "cell_type": "code",
   "execution_count": 145,
   "id": "cd00f744",
   "metadata": {},
   "outputs": [
    {
     "data": {
      "text/plain": [
       "100"
      ]
     },
     "execution_count": 145,
     "metadata": {},
     "output_type": "execute_result"
    }
   ],
   "source": [
    "df = pd.read_csv ('https://raw.githubusercontent.com/Owen3vans/4105HW0/Main/D3.csv')\n",
    "df.head()\n",
    "M=len(df) ##length of data set\n",
    "M         ## verifies correct data set"
   ]
  },
  {
   "cell_type": "code",
   "execution_count": 146,
   "id": "931e7041",
   "metadata": {},
   "outputs": [
    {
     "data": {
      "text/plain": [
       "100"
      ]
     },
     "execution_count": 146,
     "metadata": {},
     "output_type": "execute_result"
    }
   ],
   "source": [
    "x= df.values[:,0] #x1 values\n",
    "y= df.values[:,3] #y values\n",
    "m= len(x) #number of training values could be x or y\n",
    "m #verify number of entries "
   ]
  },
  {
   "cell_type": "code",
   "execution_count": 147,
   "id": "dc272fad",
   "metadata": {},
   "outputs": [
    {
     "name": "stdout",
     "output_type": "stream",
     "text": [
      "X =  [0.         0.04040404 0.08080808 0.12121212 0.16161616]\n",
      "Y =  [4.38754501 2.6796499  2.96848981 3.25406475 3.53637472]\n"
     ]
    }
   ],
   "source": [
    "print('X = ', x[: 5]) #first 5 values of x and y for verification\n",
    "print('Y = ', y[: 5])"
   ]
  },
  {
   "cell_type": "code",
   "execution_count": 148,
   "id": "7ad03f20",
   "metadata": {},
   "outputs": [
    {
     "data": {
      "text/plain": [
       "array([[1.],\n",
       "       [1.],\n",
       "       [1.],\n",
       "       [1.],\n",
       "       [1.]])"
      ]
     },
     "execution_count": 148,
     "metadata": {},
     "output_type": "execute_result"
    }
   ],
   "source": [
    "x0 = np.ones((m,1)) #create matrix all 1s\n",
    "x0[:5]\n"
   ]
  },
  {
   "cell_type": "code",
   "execution_count": 149,
   "id": "afc08b5a",
   "metadata": {},
   "outputs": [
    {
     "data": {
      "text/plain": [
       "array([[0.        ],\n",
       "       [0.04040404],\n",
       "       [0.08080808],\n",
       "       [0.12121212],\n",
       "       [0.16161616]])"
      ]
     },
     "execution_count": 149,
     "metadata": {},
     "output_type": "execute_result"
    }
   ],
   "source": [
    "x1 = x.reshape(m, 1) #create matrix with x1 values \n",
    "x1[:5]"
   ]
  },
  {
   "cell_type": "code",
   "execution_count": 150,
   "id": "65b02143",
   "metadata": {},
   "outputs": [
    {
     "data": {
      "text/plain": [
       "array([[1.        , 0.        ],\n",
       "       [1.        , 0.04040404],\n",
       "       [1.        , 0.08080808],\n",
       "       [1.        , 0.12121212],\n",
       "       [1.        , 0.16161616]])"
      ]
     },
     "execution_count": 150,
     "metadata": {},
     "output_type": "execute_result"
    }
   ],
   "source": [
    "x = np.hstack((x0,x1)) #combines x0 x1 array\n",
    "x[:5]"
   ]
  },
  {
   "cell_type": "code",
   "execution_count": 151,
   "id": "c1109321",
   "metadata": {},
   "outputs": [
    {
     "data": {
      "text/plain": [
       "array([0., 0.])"
      ]
     },
     "execution_count": 151,
     "metadata": {},
     "output_type": "execute_result"
    }
   ],
   "source": [
    "theta = np.zeros(2) #theta value set to zero\n",
    "theta"
   ]
  },
  {
   "cell_type": "code",
   "execution_count": 152,
   "id": "a35bdfa9",
   "metadata": {},
   "outputs": [],
   "source": [
    "def compute_cost(x,y,theta):\n",
    "    predictions = x.dot(theta)\n",
    "    errors = np.subtract(predictions, y)\n",
    "    sqrErrors = np.square(errors)\n",
    "    J= 1/(2*m)*np.sum(sqrErrors)\n",
    "    return J"
   ]
  },
  {
   "cell_type": "code",
   "execution_count": 153,
   "id": "b4f6e1a8",
   "metadata": {},
   "outputs": [
    {
     "name": "stdout",
     "output_type": "stream",
     "text": [
      "5.524438459196242\n"
     ]
    }
   ],
   "source": [
    "cost = compute_cost(x,y,theta)\n",
    "print(cost)"
   ]
  },
  {
   "cell_type": "code",
   "execution_count": 154,
   "id": "b5100a3a",
   "metadata": {},
   "outputs": [],
   "source": [
    "def Gradiant_decent (x,y,theta,alpha,itterations):\n",
    "    cost_history= np.zeros(itterations)\n",
    "    for i in range(itterations):\n",
    "        predictions= x.dot(theta)\n",
    "        errors= np.subtract(predictions, y)\n",
    "        sum_delta= (alpha / m)* x.transpose().dot(errors);\n",
    "        theta = theta - sum_delta;\n",
    "        cost_history[i]= compute_cost(x,y,theta)\n",
    "    return theta, cost_history"
   ]
  },
  {
   "cell_type": "code",
   "execution_count": 155,
   "id": "3dd2548d",
   "metadata": {},
   "outputs": [],
   "source": [
    "theta =[0.,0.] #set theta to 0\n",
    "itterations = 1500;\n",
    "alpha=0.1;"
   ]
  },
  {
   "cell_type": "code",
   "execution_count": 156,
   "id": "633b110c",
   "metadata": {},
   "outputs": [
    {
     "name": "stdout",
     "output_type": "stream",
     "text": [
      "Final value of theta=  [ 5.92794892 -2.03833663]\n",
      "cost history=  [5.16999006 4.96338989 4.7855721  ... 0.98499308 0.98499308 0.98499308]\n"
     ]
    }
   ],
   "source": [
    "theta, cost_history = Gradiant_decent(x,y,theta,alpha,itterations)\n",
    "print('Final value of theta= ' ,theta)\n",
    "print('cost history= ', cost_history)"
   ]
  },
  {
   "cell_type": "code",
   "execution_count": 162,
   "id": "ba7cbfbd",
   "metadata": {
    "scrolled": true
   },
   "outputs": [
    {
     "data": {
      "text/plain": [
       "<matplotlib.legend.Legend at 0x2c78c78f340>"
      ]
     },
     "execution_count": 162,
     "metadata": {},
     "output_type": "execute_result"
    },
    {
     "data": {
      "image/png": "[encoded data removed]",
      "text/plain": [
       "<Figure size 576x432 with 1 Axes>"
      ]
     },
     "metadata": {
      "needs_background": "light"
     },
     "output_type": "display_data"
    }
   ],
   "source": [
    "plt.scatter(x[:,1], y, color='red', marker= '+', label= 'Training Data') \n",
    "plt.plot(x[:,1],x.dot(theta), color='green', label='Linear Regression')\n",
    "plt.rcParams[\"figure.figsize\"] = (10,6) \n",
    "plt.grid() \n",
    "plt.xlabel('X1') \n",
    "plt.ylabel('y') \n",
    "plt.title('Linear Regression Fit') \n",
    "plt.legend() "
   ]
  },
  {
   "cell_type": "code",
   "execution_count": 158,
   "id": "1812b43c",
   "metadata": {},
   "outputs": [
    {
     "data": {
      "text/plain": [
       "Text(0.5, 1.0, 'Convergence of gradient descent')"
      ]
     },
     "execution_count": 158,
     "metadata": {},
     "output_type": "execute_result"
    },
    {
     "data": {
      "image/png": "[encoded data removed]",
      "text/plain": [
       "<Figure size 720x432 with 1 Axes>"
      ]
     },
     "metadata": {
      "needs_background": "light"
     },
     "output_type": "display_data"
    }
   ],
   "source": [
    "plt.plot(range(1, itterations + 1),cost_history, color='blue') \n",
    "plt.rcParams[\"figure.figsize\"] = (10,6) \n",
    "plt.grid() \n",
    "plt.xlabel('Number of iterations') \n",
    "plt.ylabel('Cost (J)') \n",
    "plt.title('Convergence of gradient descent') "
   ]
  },
  {
   "cell_type": "code",
   "execution_count": 159,
   "id": "353c0294",
   "metadata": {},
   "outputs": [],
   "source": [
    "#alpha value of 0.1 gives lowest loss the quickest with cost =1 at 100 itterations\n",
    "#alpha value of 0.01 gives cost= 1 at 1100 iterations\n",
    "#alpha = 0.05 gives cost= 1 at 250 itterations"
   ]
  },
  {
   "cell_type": "code",
   "execution_count": null,
   "id": "f35904bf",
   "metadata": {},
   "outputs": [],
   "source": []
  }
 ],
 "metadata": {
  "kernelspec": {
   "display_name": "Python 3 (ipykernel)",
   "language": "python",
   "name": "python3"
  },
  "language_info": {
   "codemirror_mode": {
    "name": "ipython",
    "version": 3
   },
   "file_extension": ".py",
   "mimetype": "text/x-python",
   "name": "python",
   "nbconvert_exporter": "python",
   "pygments_lexer": "ipython3",
   "version": "3.9.12"
  }
 },
 "nbformat": 4,
 "nbformat_minor": 5
}
